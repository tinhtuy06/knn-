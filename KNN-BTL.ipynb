{
 "cells": [
  {
   "cell_type": "code",
   "execution_count": 3,
   "id": "04517d3d",
   "metadata": {},
   "outputs": [],
   "source": [
    "import pandas as pd \n",
    "import numpy as np \n",
    "from sklearn.model_selection import train_test_split\n",
    "from sklearn.neighbors import KNeighborsClassifier\n",
    "from sklearn import preprocessing\n",
    "from sklearn.metrics import accuracy_score\n",
    "from sklearn.model_selection import cross_val_score, RepeatedKFold, KFold, StratifiedKFold\n",
    "from sklearn.metrics import precision_score, recall_score, f1_score"
   ]
  },
  {
   "cell_type": "code",
   "execution_count": 6,
   "id": "66aaeaec",
   "metadata": {},
   "outputs": [
    {
     "data": {
      "text/html": [
       "<div>\n",
       "<style scoped>\n",
       "    .dataframe tbody tr th:only-of-type {\n",
       "        vertical-align: middle;\n",
       "    }\n",
       "\n",
       "    .dataframe tbody tr th {\n",
       "        vertical-align: top;\n",
       "    }\n",
       "\n",
       "    .dataframe thead th {\n",
       "        text-align: right;\n",
       "    }\n",
       "</style>\n",
       "<table border=\"1\" class=\"dataframe\">\n",
       "  <thead>\n",
       "    <tr style=\"text-align: right;\">\n",
       "      <th></th>\n",
       "      <th>Age</th>\n",
       "      <th>BMI</th>\n",
       "      <th>Glucose</th>\n",
       "      <th>Insulin</th>\n",
       "      <th>HOMA</th>\n",
       "      <th>Leptin</th>\n",
       "      <th>Adiponectin</th>\n",
       "      <th>Resistin</th>\n",
       "      <th>MCP.1</th>\n",
       "      <th>Classification</th>\n",
       "    </tr>\n",
       "  </thead>\n",
       "  <tbody>\n",
       "    <tr>\n",
       "      <th>0</th>\n",
       "      <td>54</td>\n",
       "      <td>35.207389</td>\n",
       "      <td>103</td>\n",
       "      <td>5.642</td>\n",
       "      <td>1.378660</td>\n",
       "      <td>65.6699</td>\n",
       "      <td>9.738408</td>\n",
       "      <td>31.17499</td>\n",
       "      <td>197.660</td>\n",
       "      <td>1</td>\n",
       "    </tr>\n",
       "    <tr>\n",
       "      <th>1</th>\n",
       "      <td>52</td>\n",
       "      <td>22.978520</td>\n",
       "      <td>132</td>\n",
       "      <td>6.054</td>\n",
       "      <td>1.145435</td>\n",
       "      <td>47.5445</td>\n",
       "      <td>3.627241</td>\n",
       "      <td>23.03327</td>\n",
       "      <td>423.361</td>\n",
       "      <td>2</td>\n",
       "    </tr>\n",
       "    <tr>\n",
       "      <th>2</th>\n",
       "      <td>32</td>\n",
       "      <td>21.101341</td>\n",
       "      <td>87</td>\n",
       "      <td>5.668</td>\n",
       "      <td>1.008595</td>\n",
       "      <td>50.5074</td>\n",
       "      <td>5.067841</td>\n",
       "      <td>9.51156</td>\n",
       "      <td>897.034</td>\n",
       "      <td>2</td>\n",
       "    </tr>\n",
       "    <tr>\n",
       "      <th>3</th>\n",
       "      <td>42</td>\n",
       "      <td>26.761205</td>\n",
       "      <td>132</td>\n",
       "      <td>2.875</td>\n",
       "      <td>1.003837</td>\n",
       "      <td>16.8972</td>\n",
       "      <td>10.096475</td>\n",
       "      <td>9.75652</td>\n",
       "      <td>267.744</td>\n",
       "      <td>1</td>\n",
       "    </tr>\n",
       "    <tr>\n",
       "      <th>4</th>\n",
       "      <td>55</td>\n",
       "      <td>34.232520</td>\n",
       "      <td>76</td>\n",
       "      <td>3.120</td>\n",
       "      <td>1.597721</td>\n",
       "      <td>17.6852</td>\n",
       "      <td>11.845054</td>\n",
       "      <td>17.21541</td>\n",
       "      <td>788.552</td>\n",
       "      <td>2</td>\n",
       "    </tr>\n",
       "    <tr>\n",
       "      <th>...</th>\n",
       "      <td>...</td>\n",
       "      <td>...</td>\n",
       "      <td>...</td>\n",
       "      <td>...</td>\n",
       "      <td>...</td>\n",
       "      <td>...</td>\n",
       "      <td>...</td>\n",
       "      <td>...</td>\n",
       "      <td>...</td>\n",
       "      <td>...</td>\n",
       "    </tr>\n",
       "    <tr>\n",
       "      <th>3995</th>\n",
       "      <td>83</td>\n",
       "      <td>24.222881</td>\n",
       "      <td>76</td>\n",
       "      <td>10.511</td>\n",
       "      <td>0.733816</td>\n",
       "      <td>17.9836</td>\n",
       "      <td>5.423659</td>\n",
       "      <td>8.66752</td>\n",
       "      <td>324.763</td>\n",
       "      <td>2</td>\n",
       "    </tr>\n",
       "    <tr>\n",
       "      <th>3996</th>\n",
       "      <td>84</td>\n",
       "      <td>21.504832</td>\n",
       "      <td>137</td>\n",
       "      <td>4.567</td>\n",
       "      <td>1.314829</td>\n",
       "      <td>28.1327</td>\n",
       "      <td>5.878012</td>\n",
       "      <td>10.31806</td>\n",
       "      <td>380.140</td>\n",
       "      <td>2</td>\n",
       "    </tr>\n",
       "    <tr>\n",
       "      <th>3997</th>\n",
       "      <td>66</td>\n",
       "      <td>29.198300</td>\n",
       "      <td>137</td>\n",
       "      <td>6.823</td>\n",
       "      <td>0.688278</td>\n",
       "      <td>8.7539</td>\n",
       "      <td>10.242825</td>\n",
       "      <td>10.32697</td>\n",
       "      <td>634.979</td>\n",
       "      <td>2</td>\n",
       "    </tr>\n",
       "    <tr>\n",
       "      <th>3998</th>\n",
       "      <td>73</td>\n",
       "      <td>22.871102</td>\n",
       "      <td>90</td>\n",
       "      <td>10.564</td>\n",
       "      <td>3.623631</td>\n",
       "      <td>26.8907</td>\n",
       "      <td>14.407806</td>\n",
       "      <td>6.88789</td>\n",
       "      <td>621.063</td>\n",
       "      <td>2</td>\n",
       "    </tr>\n",
       "    <tr>\n",
       "      <th>3999</th>\n",
       "      <td>34</td>\n",
       "      <td>28.027362</td>\n",
       "      <td>76</td>\n",
       "      <td>3.008</td>\n",
       "      <td>1.235593</td>\n",
       "      <td>51.8521</td>\n",
       "      <td>7.984090</td>\n",
       "      <td>11.77880</td>\n",
       "      <td>192.403</td>\n",
       "      <td>2</td>\n",
       "    </tr>\n",
       "  </tbody>\n",
       "</table>\n",
       "<p>4000 rows × 10 columns</p>\n",
       "</div>"
      ],
      "text/plain": [
       "      Age        BMI  Glucose  Insulin      HOMA   Leptin  Adiponectin  \\\n",
       "0      54  35.207389      103    5.642  1.378660  65.6699     9.738408   \n",
       "1      52  22.978520      132    6.054  1.145435  47.5445     3.627241   \n",
       "2      32  21.101341       87    5.668  1.008595  50.5074     5.067841   \n",
       "3      42  26.761205      132    2.875  1.003837  16.8972    10.096475   \n",
       "4      55  34.232520       76    3.120  1.597721  17.6852    11.845054   \n",
       "...   ...        ...      ...      ...       ...      ...          ...   \n",
       "3995   83  24.222881       76   10.511  0.733816  17.9836     5.423659   \n",
       "3996   84  21.504832      137    4.567  1.314829  28.1327     5.878012   \n",
       "3997   66  29.198300      137    6.823  0.688278   8.7539    10.242825   \n",
       "3998   73  22.871102       90   10.564  3.623631  26.8907    14.407806   \n",
       "3999   34  28.027362       76    3.008  1.235593  51.8521     7.984090   \n",
       "\n",
       "      Resistin    MCP.1  Classification  \n",
       "0     31.17499  197.660               1  \n",
       "1     23.03327  423.361               2  \n",
       "2      9.51156  897.034               2  \n",
       "3      9.75652  267.744               1  \n",
       "4     17.21541  788.552               2  \n",
       "...        ...      ...             ...  \n",
       "3995   8.66752  324.763               2  \n",
       "3996  10.31806  380.140               2  \n",
       "3997  10.32697  634.979               2  \n",
       "3998   6.88789  621.063               2  \n",
       "3999  11.77880  192.403               2  \n",
       "\n",
       "[4000 rows x 10 columns]"
      ]
     },
     "execution_count": 6,
     "metadata": {},
     "output_type": "execute_result"
    }
   ],
   "source": [
    "data=pd.read_csv('Coimbra_breast_cancer_dataset.csv')\n",
    "df=data.copy()\n",
    "df"
   ]
  },
  {
   "cell_type": "code",
   "execution_count": 43,
   "id": "a45a8589",
   "metadata": {},
   "outputs": [
    {
     "data": {
      "text/plain": [
       "(4000, 10)"
      ]
     },
     "execution_count": 43,
     "metadata": {},
     "output_type": "execute_result"
    }
   ],
   "source": [
    "#Kiểm tra dữ liệu\n",
    "df1.shape"
   ]
  },
  {
   "cell_type": "markdown",
   "id": "72a8cf69",
   "metadata": {},
   "source": [
    "Dữ liệu có 4000 dòng và 10 cột"
   ]
  },
  {
   "cell_type": "code",
   "execution_count": 14,
   "id": "0829cbc3",
   "metadata": {
    "scrolled": true
   },
   "outputs": [
    {
     "name": "stdout",
     "output_type": "stream",
     "text": [
      "Quantitative Attributes:\n",
      "\n",
      "Age (years): Represents the age of individuals in the dataset.\n",
      "\n",
      "BMI (kg/mÂ²): Body Mass Index, a measure of body fat based on weight and height.\n",
      "\n",
      "Glucose (mg/dL): Reflects blood glucose levels, a vital metabolic indicator.\n",
      "\n",
      "Insulin (ÂµU/mL): Indicates insulin levels, a hormone associated with glucose regulation.\n",
      "\n",
      "HOMA: Homeostatic Model Assessment, a method assessing insulin resistance and beta-cell function.\n",
      "\n",
      "Leptin (ng/mL): Represents leptin levels, a hormone involved in appetite and energy balance regulation.\n",
      "\n",
      "Adiponectin (Âµg/mL): Reflects adiponectin levels, a protein associated with metabolic regulation.\n",
      "\n",
      "Resistin (ng/mL): Indicates resistin levels, a protein implicated in insulin resistance.\n",
      "\n",
      "MCP-1 (pg/dL): Reflects Monocyte Chemoattractant Protein-1 levels, a cytokine involved in inflammation.\n",
      "\n",
      "Labels:\n",
      "\n",
      "1: Healthy controls\n",
      "\n",
      "2: Patients with breast cancer\n",
      "\n",
      "These quantitative attributes, including anthropometric data and parameters gathered from routine blood analysis, serve as the foundation for potential biomarkers of breast cancer. The dataset presents an opportunity for developing accurate prediction models, aiding in the identification and understanding of factors associated with breast cancer.\n",
      "\n"
     ]
    }
   ],
   "source": [
    "with open('./Coimbra_breast_cancer_dataset.txt', 'r') as file:\n",
    "    description_dt = \"\"\n",
    "    for i, line in enumerate(file):\n",
    "        description_dt += f\"{line.strip()}\\n\"\n",
    "print(description_dt)"
   ]
  },
  {
   "cell_type": "markdown",
   "id": "3b18339f",
   "metadata": {},
   "source": [
    "Thuộc tính định lượng:\n",
    "\n",
    "1. Tuổi (năm): Thể hiện tuổi của các cá nhân trong tập dữ liệu.\n",
    "\n",
    "2. BMI (kg/m2): Chỉ số khối cơ thể, thước đo lượng mỡ trong cơ thể dựa trên cân nặng và chiều cao.\n",
    "\n",
    "3. Glucose (mg/dL): Phản ánh mức đường huyết, một chỉ số trao đổi chất quan trọng.\n",
    "\n",
    "4. Insulin (µU/mL): Cho biết nồng độ insulin, một loại hormone liên quan đến điều hòa glucose.\n",
    "\n",
    "5. HOMA: Đánh giá mô hình cân bằng nội môi, một phương pháp đánh giá tình trạng kháng insulin và chức năng tế bào beta.\n",
    "\n",
    "6. Leptin (ng/mL): Thể hiện mức độ leptin, một loại hormone liên quan đến sự thèm ăn và điều chỉnh cân bằng năng lượng.\n",
    "\n",
    "7. Adiponectin (µg/mL): Phản ánh nồng độ adiponectin, một loại protein liên quan đến điều hòa trao đổi chất.\n",
    "\n",
    "8. resistin (ng/mL): Cho biết mức độ resistin, một loại protein có liên quan đến tình trạng kháng insulin.\n",
    "\n",
    "9. MCP-1 (pg/dL): Phản ánh nồng độ Protein-1 của chất hóa học đơn nhân, một cytokine liên quan đến tình trạng viêm.\n",
    "\n",
    "10. Nhãn: (1: Kiểm soát sức khỏe, 2: Bệnh nhân ung thư vú).\n",
    "\n"
   ]
  },
  {
   "cell_type": "code",
   "execution_count": 15,
   "id": "b5afb329",
   "metadata": {},
   "outputs": [
    {
     "data": {
      "text/plain": [
       "Index(['Age', 'BMI', 'Glucose', 'Insulin', 'HOMA', 'Leptin', 'Adiponectin',\n",
       "       'Resistin', 'MCP.1', 'Classification'],\n",
       "      dtype='object')"
      ]
     },
     "execution_count": 15,
     "metadata": {},
     "output_type": "execute_result"
    }
   ],
   "source": [
    "df.columns"
   ]
  },
  {
   "cell_type": "code",
   "execution_count": 16,
   "id": "9fe24614",
   "metadata": {},
   "outputs": [
    {
     "name": "stdout",
     "output_type": "stream",
     "text": [
      "<class 'pandas.core.frame.DataFrame'>\n",
      "RangeIndex: 4000 entries, 0 to 3999\n",
      "Data columns (total 10 columns):\n",
      " #   Column          Non-Null Count  Dtype  \n",
      "---  ------          --------------  -----  \n",
      " 0   Age             4000 non-null   int64  \n",
      " 1   BMI             4000 non-null   float64\n",
      " 2   Glucose         4000 non-null   int64  \n",
      " 3   Insulin         4000 non-null   float64\n",
      " 4   HOMA            4000 non-null   float64\n",
      " 5   Leptin          4000 non-null   float64\n",
      " 6   Adiponectin     4000 non-null   float64\n",
      " 7   Resistin        4000 non-null   float64\n",
      " 8   MCP.1           4000 non-null   float64\n",
      " 9   Classification  4000 non-null   int64  \n",
      "dtypes: float64(7), int64(3)\n",
      "memory usage: 312.6 KB\n"
     ]
    }
   ],
   "source": [
    "df.info() #Thông tin DataFrame"
   ]
  },
  {
   "cell_type": "code",
   "execution_count": 17,
   "id": "f31ec130",
   "metadata": {},
   "outputs": [
    {
     "data": {
      "text/html": [
       "<div>\n",
       "<style scoped>\n",
       "    .dataframe tbody tr th:only-of-type {\n",
       "        vertical-align: middle;\n",
       "    }\n",
       "\n",
       "    .dataframe tbody tr th {\n",
       "        vertical-align: top;\n",
       "    }\n",
       "\n",
       "    .dataframe thead th {\n",
       "        text-align: right;\n",
       "    }\n",
       "</style>\n",
       "<table border=\"1\" class=\"dataframe\">\n",
       "  <thead>\n",
       "    <tr style=\"text-align: right;\">\n",
       "      <th></th>\n",
       "      <th>Age</th>\n",
       "      <th>BMI</th>\n",
       "      <th>Glucose</th>\n",
       "      <th>Insulin</th>\n",
       "      <th>HOMA</th>\n",
       "      <th>Leptin</th>\n",
       "      <th>Adiponectin</th>\n",
       "      <th>Resistin</th>\n",
       "      <th>MCP.1</th>\n",
       "      <th>Classification</th>\n",
       "    </tr>\n",
       "  </thead>\n",
       "  <tbody>\n",
       "    <tr>\n",
       "      <th>count</th>\n",
       "      <td>4000.00000</td>\n",
       "      <td>4000.000000</td>\n",
       "      <td>4000.000000</td>\n",
       "      <td>4000.000000</td>\n",
       "      <td>4000.000000</td>\n",
       "      <td>4000.000000</td>\n",
       "      <td>4000.000000</td>\n",
       "      <td>4000.000000</td>\n",
       "      <td>4000.000000</td>\n",
       "      <td>4000.000000</td>\n",
       "    </tr>\n",
       "    <tr>\n",
       "      <th>mean</th>\n",
       "      <td>56.21075</td>\n",
       "      <td>27.422280</td>\n",
       "      <td>113.876500</td>\n",
       "      <td>8.654001</td>\n",
       "      <td>2.024332</td>\n",
       "      <td>25.137737</td>\n",
       "      <td>9.364896</td>\n",
       "      <td>13.053667</td>\n",
       "      <td>512.183456</td>\n",
       "      <td>1.554000</td>\n",
       "    </tr>\n",
       "    <tr>\n",
       "      <th>std</th>\n",
       "      <td>17.80965</td>\n",
       "      <td>4.413884</td>\n",
       "      <td>25.837795</td>\n",
       "      <td>6.435160</td>\n",
       "      <td>1.625638</td>\n",
       "      <td>15.096446</td>\n",
       "      <td>4.674244</td>\n",
       "      <td>7.454424</td>\n",
       "      <td>253.279015</td>\n",
       "      <td>0.497138</td>\n",
       "    </tr>\n",
       "    <tr>\n",
       "      <th>min</th>\n",
       "      <td>32.00000</td>\n",
       "      <td>20.690751</td>\n",
       "      <td>76.000000</td>\n",
       "      <td>2.821000</td>\n",
       "      <td>0.590033</td>\n",
       "      <td>6.831900</td>\n",
       "      <td>3.192272</td>\n",
       "      <td>4.190320</td>\n",
       "      <td>137.488000</td>\n",
       "      <td>1.000000</td>\n",
       "    </tr>\n",
       "    <tr>\n",
       "      <th>25%</th>\n",
       "      <td>39.00000</td>\n",
       "      <td>23.079053</td>\n",
       "      <td>76.000000</td>\n",
       "      <td>4.421750</td>\n",
       "      <td>0.970090</td>\n",
       "      <td>12.712750</td>\n",
       "      <td>5.580210</td>\n",
       "      <td>7.022095</td>\n",
       "      <td>299.665000</td>\n",
       "      <td>1.000000</td>\n",
       "    </tr>\n",
       "    <tr>\n",
       "      <th>50%</th>\n",
       "      <td>56.00000</td>\n",
       "      <td>27.558485</td>\n",
       "      <td>131.000000</td>\n",
       "      <td>5.818000</td>\n",
       "      <td>1.373842</td>\n",
       "      <td>19.805050</td>\n",
       "      <td>8.286938</td>\n",
       "      <td>10.692780</td>\n",
       "      <td>482.308000</td>\n",
       "      <td>2.000000</td>\n",
       "    </tr>\n",
       "    <tr>\n",
       "      <th>75%</th>\n",
       "      <td>72.00000</td>\n",
       "      <td>30.814916</td>\n",
       "      <td>134.000000</td>\n",
       "      <td>10.466250</td>\n",
       "      <td>2.502776</td>\n",
       "      <td>36.670250</td>\n",
       "      <td>10.918292</td>\n",
       "      <td>17.294747</td>\n",
       "      <td>691.312500</td>\n",
       "      <td>2.000000</td>\n",
       "    </tr>\n",
       "    <tr>\n",
       "      <th>max</th>\n",
       "      <td>85.00000</td>\n",
       "      <td>36.209606</td>\n",
       "      <td>138.000000</td>\n",
       "      <td>30.211000</td>\n",
       "      <td>8.218456</td>\n",
       "      <td>68.506600</td>\n",
       "      <td>22.536919</td>\n",
       "      <td>42.617810</td>\n",
       "      <td>1227.250000</td>\n",
       "      <td>2.000000</td>\n",
       "    </tr>\n",
       "  </tbody>\n",
       "</table>\n",
       "</div>"
      ],
      "text/plain": [
       "              Age          BMI      Glucose      Insulin         HOMA  \\\n",
       "count  4000.00000  4000.000000  4000.000000  4000.000000  4000.000000   \n",
       "mean     56.21075    27.422280   113.876500     8.654001     2.024332   \n",
       "std      17.80965     4.413884    25.837795     6.435160     1.625638   \n",
       "min      32.00000    20.690751    76.000000     2.821000     0.590033   \n",
       "25%      39.00000    23.079053    76.000000     4.421750     0.970090   \n",
       "50%      56.00000    27.558485   131.000000     5.818000     1.373842   \n",
       "75%      72.00000    30.814916   134.000000    10.466250     2.502776   \n",
       "max      85.00000    36.209606   138.000000    30.211000     8.218456   \n",
       "\n",
       "            Leptin  Adiponectin     Resistin        MCP.1  Classification  \n",
       "count  4000.000000  4000.000000  4000.000000  4000.000000     4000.000000  \n",
       "mean     25.137737     9.364896    13.053667   512.183456        1.554000  \n",
       "std      15.096446     4.674244     7.454424   253.279015        0.497138  \n",
       "min       6.831900     3.192272     4.190320   137.488000        1.000000  \n",
       "25%      12.712750     5.580210     7.022095   299.665000        1.000000  \n",
       "50%      19.805050     8.286938    10.692780   482.308000        2.000000  \n",
       "75%      36.670250    10.918292    17.294747   691.312500        2.000000  \n",
       "max      68.506600    22.536919    42.617810  1227.250000        2.000000  "
      ]
     },
     "execution_count": 17,
     "metadata": {},
     "output_type": "execute_result"
    }
   ],
   "source": [
    "df.describe() #Thống kê các cột"
   ]
  },
  {
   "cell_type": "code",
   "execution_count": 18,
   "id": "5462ac1a",
   "metadata": {},
   "outputs": [
    {
     "data": {
      "text/plain": [
       "Age               0\n",
       "BMI               0\n",
       "Glucose           0\n",
       "Insulin           0\n",
       "HOMA              0\n",
       "Leptin            0\n",
       "Adiponectin       0\n",
       "Resistin          0\n",
       "MCP.1             0\n",
       "Classification    0\n",
       "dtype: int64"
      ]
     },
     "execution_count": 18,
     "metadata": {},
     "output_type": "execute_result"
    }
   ],
   "source": [
    "df.isnull().sum() #Kiểm tra missing value"
   ]
  },
  {
   "cell_type": "markdown",
   "id": "0cd53a11",
   "metadata": {},
   "source": [
    "Dữ liệu không có giá trị NULL xuất hiện"
   ]
  },
  {
   "cell_type": "code",
   "execution_count": 19,
   "id": "2d7bb9c2",
   "metadata": {},
   "outputs": [
    {
     "data": {
      "text/plain": [
       "0"
      ]
     },
     "execution_count": 19,
     "metadata": {},
     "output_type": "execute_result"
    }
   ],
   "source": [
    "df.duplicated().sum() #Kiểm tra mỗi hàng trong DataFrame có bị trùng lặp không"
   ]
  },
  {
   "cell_type": "code",
   "execution_count": 20,
   "id": "f194d51d",
   "metadata": {},
   "outputs": [
    {
     "data": {
      "text/html": [
       "<div>\n",
       "<style scoped>\n",
       "    .dataframe tbody tr th:only-of-type {\n",
       "        vertical-align: middle;\n",
       "    }\n",
       "\n",
       "    .dataframe tbody tr th {\n",
       "        vertical-align: top;\n",
       "    }\n",
       "\n",
       "    .dataframe thead th {\n",
       "        text-align: right;\n",
       "    }\n",
       "</style>\n",
       "<table border=\"1\" class=\"dataframe\">\n",
       "  <thead>\n",
       "    <tr style=\"text-align: right;\">\n",
       "      <th></th>\n",
       "      <th>Age</th>\n",
       "      <th>BMI</th>\n",
       "      <th>Glucose</th>\n",
       "      <th>Insulin</th>\n",
       "      <th>HOMA</th>\n",
       "      <th>Leptin</th>\n",
       "      <th>Adiponectin</th>\n",
       "      <th>Resistin</th>\n",
       "      <th>MCP.1</th>\n",
       "      <th>Classification</th>\n",
       "    </tr>\n",
       "  </thead>\n",
       "  <tbody>\n",
       "  </tbody>\n",
       "</table>\n",
       "</div>"
      ],
      "text/plain": [
       "Empty DataFrame\n",
       "Columns: [Age, BMI, Glucose, Insulin, HOMA, Leptin, Adiponectin, Resistin, MCP.1, Classification]\n",
       "Index: []"
      ]
     },
     "execution_count": 20,
     "metadata": {},
     "output_type": "execute_result"
    }
   ],
   "source": [
    "df[df.duplicated()]"
   ]
  },
  {
   "cell_type": "markdown",
   "id": "173d4cc0",
   "metadata": {},
   "source": [
    "Dữ liệu không có bản ghi nào bị lặp lại hoàn toàn"
   ]
  },
  {
   "cell_type": "code",
   "execution_count": 9,
   "id": "b62beac9",
   "metadata": {},
   "outputs": [
    {
     "data": {
      "text/html": [
       "<div>\n",
       "<style scoped>\n",
       "    .dataframe tbody tr th:only-of-type {\n",
       "        vertical-align: middle;\n",
       "    }\n",
       "\n",
       "    .dataframe tbody tr th {\n",
       "        vertical-align: top;\n",
       "    }\n",
       "\n",
       "    .dataframe thead th {\n",
       "        text-align: right;\n",
       "    }\n",
       "</style>\n",
       "<table border=\"1\" class=\"dataframe\">\n",
       "  <thead>\n",
       "    <tr style=\"text-align: right;\">\n",
       "      <th></th>\n",
       "      <th>Age</th>\n",
       "      <th>BMI</th>\n",
       "      <th>Glucose</th>\n",
       "      <th>Insulin</th>\n",
       "      <th>HOMA</th>\n",
       "      <th>Leptin</th>\n",
       "      <th>Adiponectin</th>\n",
       "      <th>Resistin</th>\n",
       "      <th>MCP.1</th>\n",
       "      <th>Classification</th>\n",
       "    </tr>\n",
       "  </thead>\n",
       "  <tbody>\n",
       "    <tr>\n",
       "      <th>0</th>\n",
       "      <td>54</td>\n",
       "      <td>35.207389</td>\n",
       "      <td>103</td>\n",
       "      <td>5.642</td>\n",
       "      <td>1.378660</td>\n",
       "      <td>65.6699</td>\n",
       "      <td>9.738408</td>\n",
       "      <td>31.17499</td>\n",
       "      <td>197.660</td>\n",
       "      <td>1</td>\n",
       "    </tr>\n",
       "    <tr>\n",
       "      <th>1</th>\n",
       "      <td>52</td>\n",
       "      <td>22.978520</td>\n",
       "      <td>132</td>\n",
       "      <td>6.054</td>\n",
       "      <td>1.145435</td>\n",
       "      <td>47.5445</td>\n",
       "      <td>3.627241</td>\n",
       "      <td>23.03327</td>\n",
       "      <td>423.361</td>\n",
       "      <td>2</td>\n",
       "    </tr>\n",
       "    <tr>\n",
       "      <th>2</th>\n",
       "      <td>32</td>\n",
       "      <td>21.101341</td>\n",
       "      <td>87</td>\n",
       "      <td>5.668</td>\n",
       "      <td>1.008595</td>\n",
       "      <td>50.5074</td>\n",
       "      <td>5.067841</td>\n",
       "      <td>9.51156</td>\n",
       "      <td>897.034</td>\n",
       "      <td>2</td>\n",
       "    </tr>\n",
       "    <tr>\n",
       "      <th>3</th>\n",
       "      <td>42</td>\n",
       "      <td>26.761205</td>\n",
       "      <td>132</td>\n",
       "      <td>2.875</td>\n",
       "      <td>1.003837</td>\n",
       "      <td>16.8972</td>\n",
       "      <td>10.096475</td>\n",
       "      <td>9.75652</td>\n",
       "      <td>267.744</td>\n",
       "      <td>1</td>\n",
       "    </tr>\n",
       "    <tr>\n",
       "      <th>4</th>\n",
       "      <td>55</td>\n",
       "      <td>34.232520</td>\n",
       "      <td>76</td>\n",
       "      <td>3.120</td>\n",
       "      <td>1.597721</td>\n",
       "      <td>17.6852</td>\n",
       "      <td>11.845054</td>\n",
       "      <td>17.21541</td>\n",
       "      <td>788.552</td>\n",
       "      <td>2</td>\n",
       "    </tr>\n",
       "    <tr>\n",
       "      <th>...</th>\n",
       "      <td>...</td>\n",
       "      <td>...</td>\n",
       "      <td>...</td>\n",
       "      <td>...</td>\n",
       "      <td>...</td>\n",
       "      <td>...</td>\n",
       "      <td>...</td>\n",
       "      <td>...</td>\n",
       "      <td>...</td>\n",
       "      <td>...</td>\n",
       "    </tr>\n",
       "    <tr>\n",
       "      <th>3995</th>\n",
       "      <td>83</td>\n",
       "      <td>24.222881</td>\n",
       "      <td>76</td>\n",
       "      <td>10.511</td>\n",
       "      <td>0.733816</td>\n",
       "      <td>17.9836</td>\n",
       "      <td>5.423659</td>\n",
       "      <td>8.66752</td>\n",
       "      <td>324.763</td>\n",
       "      <td>2</td>\n",
       "    </tr>\n",
       "    <tr>\n",
       "      <th>3996</th>\n",
       "      <td>84</td>\n",
       "      <td>21.504832</td>\n",
       "      <td>137</td>\n",
       "      <td>4.567</td>\n",
       "      <td>1.314829</td>\n",
       "      <td>28.1327</td>\n",
       "      <td>5.878012</td>\n",
       "      <td>10.31806</td>\n",
       "      <td>380.140</td>\n",
       "      <td>2</td>\n",
       "    </tr>\n",
       "    <tr>\n",
       "      <th>3997</th>\n",
       "      <td>66</td>\n",
       "      <td>29.198300</td>\n",
       "      <td>137</td>\n",
       "      <td>6.823</td>\n",
       "      <td>0.688278</td>\n",
       "      <td>8.7539</td>\n",
       "      <td>10.242825</td>\n",
       "      <td>10.32697</td>\n",
       "      <td>634.979</td>\n",
       "      <td>2</td>\n",
       "    </tr>\n",
       "    <tr>\n",
       "      <th>3998</th>\n",
       "      <td>73</td>\n",
       "      <td>22.871102</td>\n",
       "      <td>90</td>\n",
       "      <td>10.564</td>\n",
       "      <td>3.623631</td>\n",
       "      <td>26.8907</td>\n",
       "      <td>14.407806</td>\n",
       "      <td>6.88789</td>\n",
       "      <td>621.063</td>\n",
       "      <td>2</td>\n",
       "    </tr>\n",
       "    <tr>\n",
       "      <th>3999</th>\n",
       "      <td>34</td>\n",
       "      <td>28.027362</td>\n",
       "      <td>76</td>\n",
       "      <td>3.008</td>\n",
       "      <td>1.235593</td>\n",
       "      <td>51.8521</td>\n",
       "      <td>7.984090</td>\n",
       "      <td>11.77880</td>\n",
       "      <td>192.403</td>\n",
       "      <td>2</td>\n",
       "    </tr>\n",
       "  </tbody>\n",
       "</table>\n",
       "<p>4000 rows × 10 columns</p>\n",
       "</div>"
      ],
      "text/plain": [
       "      Age        BMI  Glucose  Insulin      HOMA   Leptin  Adiponectin  \\\n",
       "0      54  35.207389      103    5.642  1.378660  65.6699     9.738408   \n",
       "1      52  22.978520      132    6.054  1.145435  47.5445     3.627241   \n",
       "2      32  21.101341       87    5.668  1.008595  50.5074     5.067841   \n",
       "3      42  26.761205      132    2.875  1.003837  16.8972    10.096475   \n",
       "4      55  34.232520       76    3.120  1.597721  17.6852    11.845054   \n",
       "...   ...        ...      ...      ...       ...      ...          ...   \n",
       "3995   83  24.222881       76   10.511  0.733816  17.9836     5.423659   \n",
       "3996   84  21.504832      137    4.567  1.314829  28.1327     5.878012   \n",
       "3997   66  29.198300      137    6.823  0.688278   8.7539    10.242825   \n",
       "3998   73  22.871102       90   10.564  3.623631  26.8907    14.407806   \n",
       "3999   34  28.027362       76    3.008  1.235593  51.8521     7.984090   \n",
       "\n",
       "      Resistin    MCP.1  Classification  \n",
       "0     31.17499  197.660               1  \n",
       "1     23.03327  423.361               2  \n",
       "2      9.51156  897.034               2  \n",
       "3      9.75652  267.744               1  \n",
       "4     17.21541  788.552               2  \n",
       "...        ...      ...             ...  \n",
       "3995   8.66752  324.763               2  \n",
       "3996  10.31806  380.140               2  \n",
       "3997  10.32697  634.979               2  \n",
       "3998   6.88789  621.063               2  \n",
       "3999  11.77880  192.403               2  \n",
       "\n",
       "[4000 rows x 10 columns]"
      ]
     },
     "execution_count": 9,
     "metadata": {},
     "output_type": "execute_result"
    }
   ],
   "source": [
    "data=pd.read_csv('Coimbra_breast_cancer_dataset.csv')\n",
    "df1=data.copy()\n",
    "df1"
   ]
  },
  {
   "cell_type": "code",
   "execution_count": 10,
   "id": "a8028577",
   "metadata": {},
   "outputs": [],
   "source": [
    "X = df1.drop('Classification', axis=1)\n",
    "y=np.array(df1['Classification'])"
   ]
  },
  {
   "cell_type": "code",
   "execution_count": 11,
   "id": "a159d23e",
   "metadata": {},
   "outputs": [],
   "source": [
    "#Chuẩn hoá dữ liệu\n",
    "standard_scaler = preprocessing.StandardScaler()\n",
    "X_std = standard_scaler.fit_transform(X)"
   ]
  },
  {
   "cell_type": "code",
   "execution_count": 13,
   "id": "eac48dd7",
   "metadata": {},
   "outputs": [],
   "source": [
    "ratio = 0.20"
   ]
  },
  {
   "cell_type": "code",
   "execution_count": 14,
   "id": "f743ee8f",
   "metadata": {},
   "outputs": [],
   "source": [
    "#Chia tập dữ liệu \n",
    "X_train, X_test, y_train, y_test = train_test_split(X_std, y, test_size = ratio, shuffle = True, stratify = y)"
   ]
  },
  {
   "cell_type": "code",
   "execution_count": 36,
   "id": "b8b4903d",
   "metadata": {},
   "outputs": [
    {
     "name": "stdout",
     "output_type": "stream",
     "text": [
      "Kích thước tập huấn luyện: 3200\n",
      "Kích thước tập kiểm tra: 800\n"
     ]
    }
   ],
   "source": [
    "print(\"Kích thước tập huấn luyện:\", X_train.shape[0])\n",
    "print(\"Kích thước tập kiểm tra:\", X_test.shape[0])"
   ]
  },
  {
   "cell_type": "markdown",
   "id": "b36073d6",
   "metadata": {},
   "source": [
    "Tối ưu mô hình \n",
    "KNN"
   ]
  },
  {
   "cell_type": "code",
   "execution_count": 37,
   "id": "ae9e2fc7",
   "metadata": {},
   "outputs": [],
   "source": [
    "kf = KFold(n_splits=5)"
   ]
  },
  {
   "cell_type": "code",
   "execution_count": 38,
   "id": "bc769cbb",
   "metadata": {},
   "outputs": [],
   "source": [
    "train = kf.split(X_train, y_train)"
   ]
  },
  {
   "cell_type": "code",
   "execution_count": 39,
   "id": "427496cc",
   "metadata": {},
   "outputs": [],
   "source": [
    "fold_indices = []\n",
    "for i, (train_index, test_index) in enumerate(train):\n",
    "    fold_indices.append((train_index, test_index))"
   ]
  },
  {
   "cell_type": "code",
   "execution_count": 40,
   "id": "dbc00b8b",
   "metadata": {},
   "outputs": [],
   "source": [
    "score_max = [0,0]\n",
    "for k in range(3,100):\n",
    "    model_kNN = KNeighborsClassifier(n_neighbors=k)\n",
    "    score_k = cross_val_score(model_kNN,X_train,\n",
    "               y_train, scoring = 'accuracy',\n",
    "               cv = fold_indices).mean()\n",
    "    if score_k > score_max[0]:\n",
    "        score_max[0] = score_k\n",
    "        score_max[1] = k"
   ]
  },
  {
   "cell_type": "code",
   "execution_count": 41,
   "id": "363f8c1b",
   "metadata": {},
   "outputs": [
    {
     "data": {
      "text/plain": [
       "[0.534375, 89]"
      ]
     },
     "execution_count": 41,
     "metadata": {},
     "output_type": "execute_result"
    }
   ],
   "source": [
    "score_max"
   ]
  },
  {
   "cell_type": "markdown",
   "id": "8090d9b7",
   "metadata": {},
   "source": [
    " Tại k = 89 thì mô hình thuật toán KNN có điểm cao nhất là 0.534375"
   ]
  },
  {
   "cell_type": "code",
   "execution_count": 4,
   "id": "dd470cb7",
   "metadata": {},
   "outputs": [],
   "source": [
    "model_kNN = KNeighborsClassifier(n_neighbors=89)"
   ]
  },
  {
   "cell_type": "code",
   "execution_count": 15,
   "id": "276060c7",
   "metadata": {},
   "outputs": [
    {
     "data": {
      "text/html": [
       "<style>#sk-container-id-1 {color: black;}#sk-container-id-1 pre{padding: 0;}#sk-container-id-1 div.sk-toggleable {background-color: white;}#sk-container-id-1 label.sk-toggleable__label {cursor: pointer;display: block;width: 100%;margin-bottom: 0;padding: 0.3em;box-sizing: border-box;text-align: center;}#sk-container-id-1 label.sk-toggleable__label-arrow:before {content: \"▸\";float: left;margin-right: 0.25em;color: #696969;}#sk-container-id-1 label.sk-toggleable__label-arrow:hover:before {color: black;}#sk-container-id-1 div.sk-estimator:hover label.sk-toggleable__label-arrow:before {color: black;}#sk-container-id-1 div.sk-toggleable__content {max-height: 0;max-width: 0;overflow: hidden;text-align: left;background-color: #f0f8ff;}#sk-container-id-1 div.sk-toggleable__content pre {margin: 0.2em;color: black;border-radius: 0.25em;background-color: #f0f8ff;}#sk-container-id-1 input.sk-toggleable__control:checked~div.sk-toggleable__content {max-height: 200px;max-width: 100%;overflow: auto;}#sk-container-id-1 input.sk-toggleable__control:checked~label.sk-toggleable__label-arrow:before {content: \"▾\";}#sk-container-id-1 div.sk-estimator input.sk-toggleable__control:checked~label.sk-toggleable__label {background-color: #d4ebff;}#sk-container-id-1 div.sk-label input.sk-toggleable__control:checked~label.sk-toggleable__label {background-color: #d4ebff;}#sk-container-id-1 input.sk-hidden--visually {border: 0;clip: rect(1px 1px 1px 1px);clip: rect(1px, 1px, 1px, 1px);height: 1px;margin: -1px;overflow: hidden;padding: 0;position: absolute;width: 1px;}#sk-container-id-1 div.sk-estimator {font-family: monospace;background-color: #f0f8ff;border: 1px dotted black;border-radius: 0.25em;box-sizing: border-box;margin-bottom: 0.5em;}#sk-container-id-1 div.sk-estimator:hover {background-color: #d4ebff;}#sk-container-id-1 div.sk-parallel-item::after {content: \"\";width: 100%;border-bottom: 1px solid gray;flex-grow: 1;}#sk-container-id-1 div.sk-label:hover label.sk-toggleable__label {background-color: #d4ebff;}#sk-container-id-1 div.sk-serial::before {content: \"\";position: absolute;border-left: 1px solid gray;box-sizing: border-box;top: 0;bottom: 0;left: 50%;z-index: 0;}#sk-container-id-1 div.sk-serial {display: flex;flex-direction: column;align-items: center;background-color: white;padding-right: 0.2em;padding-left: 0.2em;position: relative;}#sk-container-id-1 div.sk-item {position: relative;z-index: 1;}#sk-container-id-1 div.sk-parallel {display: flex;align-items: stretch;justify-content: center;background-color: white;position: relative;}#sk-container-id-1 div.sk-item::before, #sk-container-id-1 div.sk-parallel-item::before {content: \"\";position: absolute;border-left: 1px solid gray;box-sizing: border-box;top: 0;bottom: 0;left: 50%;z-index: -1;}#sk-container-id-1 div.sk-parallel-item {display: flex;flex-direction: column;z-index: 1;position: relative;background-color: white;}#sk-container-id-1 div.sk-parallel-item:first-child::after {align-self: flex-end;width: 50%;}#sk-container-id-1 div.sk-parallel-item:last-child::after {align-self: flex-start;width: 50%;}#sk-container-id-1 div.sk-parallel-item:only-child::after {width: 0;}#sk-container-id-1 div.sk-dashed-wrapped {border: 1px dashed gray;margin: 0 0.4em 0.5em 0.4em;box-sizing: border-box;padding-bottom: 0.4em;background-color: white;}#sk-container-id-1 div.sk-label label {font-family: monospace;font-weight: bold;display: inline-block;line-height: 1.2em;}#sk-container-id-1 div.sk-label-container {text-align: center;}#sk-container-id-1 div.sk-container {/* jupyter's `normalize.less` sets `[hidden] { display: none; }` but bootstrap.min.css set `[hidden] { display: none !important; }` so we also need the `!important` here to be able to override the default hidden behavior on the sphinx rendered scikit-learn.org. See: https://github.com/scikit-learn/scikit-learn/issues/21755 */display: inline-block !important;position: relative;}#sk-container-id-1 div.sk-text-repr-fallback {display: none;}</style><div id=\"sk-container-id-1\" class=\"sk-top-container\"><div class=\"sk-text-repr-fallback\"><pre>KNeighborsClassifier(n_neighbors=89)</pre><b>In a Jupyter environment, please rerun this cell to show the HTML representation or trust the notebook. <br />On GitHub, the HTML representation is unable to render, please try loading this page with nbviewer.org.</b></div><div class=\"sk-container\" hidden><div class=\"sk-item\"><div class=\"sk-estimator sk-toggleable\"><input class=\"sk-toggleable__control sk-hidden--visually\" id=\"sk-estimator-id-1\" type=\"checkbox\" checked><label for=\"sk-estimator-id-1\" class=\"sk-toggleable__label sk-toggleable__label-arrow\">KNeighborsClassifier</label><div class=\"sk-toggleable__content\"><pre>KNeighborsClassifier(n_neighbors=89)</pre></div></div></div></div></div>"
      ],
      "text/plain": [
       "KNeighborsClassifier(n_neighbors=89)"
      ]
     },
     "execution_count": 15,
     "metadata": {},
     "output_type": "execute_result"
    }
   ],
   "source": [
    "model_kNN.fit(X_train,y_train)"
   ]
  },
  {
   "cell_type": "code",
   "execution_count": 48,
   "id": "a19506fb",
   "metadata": {},
   "outputs": [],
   "source": [
    "y_pred=model_kNN.predict(X_test)"
   ]
  },
  {
   "cell_type": "markdown",
   "id": "549814cb",
   "metadata": {},
   "source": [
    "Đo độ đánh giá"
   ]
  },
  {
   "cell_type": "code",
   "execution_count": 51,
   "id": "951185d7",
   "metadata": {},
   "outputs": [
    {
     "name": "stdout",
     "output_type": "stream",
     "text": [
      "Precision: 0.4631578947368421\n",
      "Recall:  0.12324929971988796\n",
      "F1-score:  0.1946902654867257\n"
     ]
    }
   ],
   "source": [
    "# Tính toán precision, recall và F1-score\n",
    "precision = precision_score(y_test, y_pred)\n",
    "recall = recall_score(y_test, y_pred)\n",
    "f1 = f1_score(y_test, y_pred)\n",
    "print(f'Precision:' , precision)\n",
    "print(f'Recall: ',recall)\n",
    "print(f'F1-score: ',f1)"
   ]
  },
  {
   "cell_type": "code",
   "execution_count": null,
   "id": "effc8f90",
   "metadata": {},
   "outputs": [],
   "source": []
  }
 ],
 "metadata": {
  "kernelspec": {
   "display_name": "Python 3 (ipykernel)",
   "language": "python",
   "name": "python3"
  },
  "language_info": {
   "codemirror_mode": {
    "name": "ipython",
    "version": 3
   },
   "file_extension": ".py",
   "mimetype": "text/x-python",
   "name": "python",
   "nbconvert_exporter": "python",
   "pygments_lexer": "ipython3",
   "version": "3.11.5"
  }
 },
 "nbformat": 4,
 "nbformat_minor": 5
}
